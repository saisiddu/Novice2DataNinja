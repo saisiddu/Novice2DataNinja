{
 "cells": [
  {
   "cell_type": "markdown",
   "metadata": {},
   "source": [
    "#### Lesson Objectives:\n",
    "* learn how to extract text from a webpage\n",
    "* learn how to do simple preprocessing of the data\n",
    "* learn how to extract topics from a collection of documents"
   ]
  },
  {
   "cell_type": "code",
   "execution_count": 1,
   "metadata": {
    "collapsed": true
   },
   "outputs": [],
   "source": [
    "# import commong modules\n",
    "import numpy as np"
   ]
  },
  {
   "cell_type": "markdown",
   "metadata": {},
   "source": [
    "Our goal is to find topics within the abstracts of the [PyData conference](https://pydata.org/seattle2017/schedule/). For that we will first need to do some web-scraping to extract the text for each abstract."
   ]
  },
  {
   "cell_type": "markdown",
   "metadata": {},
   "source": [
    "For that we will rely on the `urllib` and `BeautifulSoup` packages."
   ]
  },
  {
   "cell_type": "markdown",
   "metadata": {},
   "source": [
    "#### Extracting Talk Links from the Schedule Webpage."
   ]
  },
  {
   "cell_type": "code",
   "execution_count": 6,
   "metadata": {},
   "outputs": [],
   "source": [
    "import urllib3"
   ]
  },
  {
   "cell_type": "code",
   "execution_count": 7,
   "metadata": {
    "collapsed": true
   },
   "outputs": [],
   "source": [
    "from bs4 import BeautifulSoup"
   ]
  },
  {
   "cell_type": "code",
   "execution_count": 13,
   "metadata": {},
   "outputs": [
    {
     "name": "stderr",
     "output_type": "stream",
     "text": [
      "C:\\Users\\saisi\\Anaconda2\\lib\\site-packages\\urllib3\\connectionpool.py:852: InsecureRequestWarning: Unverified HTTPS request is being made. Adding certificate verification is strongly advised. See: https://urllib3.readthedocs.io/en/latest/advanced-usage.html#ssl-warnings\n",
      "  InsecureRequestWarning)\n"
     ]
    }
   ],
   "source": [
    "http = urllib3.PoolManager()\n",
    "url = \"https://pydata.org/seattle2017/schedule/\"\n",
    "webpage = http.request('GET', url)\n",
    "\n",
    "schedule = BeautifulSoup(webpage.data,'html.parser')"
   ]
  },
  {
   "cell_type": "code",
   "execution_count": 14,
   "metadata": {},
   "outputs": [
    {
     "data": {
      "text/plain": [
       "<urllib3.response.HTTPResponse at 0x6fca320>"
      ]
     },
     "execution_count": 14,
     "metadata": {},
     "output_type": "execute_result"
    }
   ],
   "source": [
    "webpage"
   ]
  },
  {
   "cell_type": "markdown",
   "metadata": {},
   "source": [
    "Now schedule is a Beautiful Soup object which can be mined for certain HTML components."
   ]
  },
  {
   "cell_type": "code",
   "execution_count": 15,
   "metadata": {},
   "outputs": [
    {
     "data": {
      "text/plain": [
       "[<a href=\"/\"><img alt=\"PyData\" data-rjs=\"2\" src=\"https://pydata.org/seattle2017/static/images/logo.288981a8dfa8.png\"/></a>,\n",
       " <a href=\"/seattle2017/\">Home</a>,\n",
       " <a aria-expanded=\"false\" aria-haspopup=\"true\" class=\"dropdown-toggle\" data-toggle=\"dropdown\" href=\"/seattle2017/about/\" id=\"ddtoggle_4\">About <span class=\"caret\"></span></a>,\n",
       " <a href=\"/seattle2017/about/code-of-conduct/\">Code of Conduct</a>,\n",
       " <a href=\"/seattle2017/about/mission/\">Conference Mission</a>,\n",
       " <a href=\"/seattle2017/venue/\">Venue</a>,\n",
       " <a href=\"/seattle2017/sponsors/\">Sponsors</a>,\n",
       " <a href=\"/seattle2017/cfp/\">CFP</a>,\n",
       " <a href=\"https://pydata.org/seattle2017/schedule/\">Schedule</a>,\n",
       " <a href=\"https://pydata.org/past-events.html\" title=\"Past PyData Events\">here</a>,\n",
       " <a href=\"/seattle2017/schedule/presentation/57/\">Using CNTK's Python Interface for Deep Learning</a>,\n",
       " <a href=\"/seattle2017/schedule/presentation/104/\">D\\u2019oh! Unevenly spaced time series analysis of The Simpsons in Pandas</a>,\n",
       " <a href=\"/seattle2017/schedule/presentation/109/\">From Novice to Data Ninja</a>,\n",
       " <a href=\"/seattle2017/schedule/presentation/125/\">So you want to be a Python expert?</a>,\n",
       " <a href=\"/seattle2017/schedule/presentation/105/\">Introduction to data analytics with pandas</a>,\n",
       " <a href=\"/seattle2017/schedule/presentation/58/\">Parallelizing Scientific Python with Dask</a>,\n",
       " <a href=\"/seattle2017/schedule/presentation/103/\">pomegranate: fast and flexible probabilistic modeling in python</a>,\n",
       " <a href=\"/seattle2017/schedule/presentation/108/\">Effective Visual Studio</a>,\n",
       " <a href=\"/seattle2017/schedule/presentation/107/\">Data Visualization and Exploration with Python</a>,\n",
       " <a href=\"/seattle2017/schedule/presentation/110/\">A Quick Primer on TensorFrames: Apache Spark and TensorFlow Together</a>,\n",
       " <a href=\"/seattle2017/schedule/presentation/114/\">Python Web Sraping</a>,\n",
       " <a href=\"/seattle2017/schedule/presentation/102/\">Vocabulary Analysis of Job Descriptions</a>,\n",
       " <a href=\"/seattle2017/schedule/presentation/138/\">Keynote</a>,\n",
       " <a href=\"/seattle2017/schedule/presentation/67/\">Scalable Data Science in Python and R on Apache Spark</a>,\n",
       " <a href=\"/seattle2017/schedule/presentation/69/\">Using Scattertext and the Python NLP Ecosystem for Text Visualization</a>,\n",
       " <a href=\"/seattle2017/schedule/presentation/62/\">Provenance for Reproducible Data Science</a>,\n",
       " <a href=\"/seattle2017/schedule/presentation/68/\">Monitoring Displacement Crises with Python: A Humanitarian Project by Data for Democracy</a>,\n",
       " <a href=\"/seattle2017/schedule/presentation/79/\">Designing for Guidance in Machine Learning</a>,\n",
       " <a href=\"/seattle2017/schedule/presentation/87/\">Automatic Citation generation with Natural Language Processing</a>,\n",
       " <a href=\"/seattle2017/schedule/presentation/81/\">Practical Optimization for Stats Nerds</a>,\n",
       " <a href=\"/seattle2017/schedule/presentation/66/\">PixieDust - make Jupyter Python Notebooks with Apache Spark Faster, Flexible, and Easier to use</a>,\n",
       " <a href=\"/seattle2017/schedule/presentation/90/\">Pandas, Pipelines, and Custom Transformers</a>,\n",
       " <a href=\"/seattle2017/schedule/presentation/78/\">Scan Statistics with Spark Streaming: Distribution Based Real Time Anomaly Detection</a>,\n",
       " <a href=\"/seattle2017/schedule/presentation/142/\">Changing the Bureaucrat\\u2019s Mind Toward Data-Driven Decisions</a>,\n",
       " <a href=\"/seattle2017/schedule/presentation/137/\">Unlocking the power of AI: A fundamentally different approach to building intelligent systems</a>,\n",
       " <a href=\"/seattle2017/schedule/presentation/139/\">Keynote</a>,\n",
       " <a href=\"/seattle2017/schedule/presentation/131/\">Robust Automated Forecasting in Python and R</a>,\n",
       " <a href=\"/seattle2017/schedule/presentation/136/\">Building Deep Learning Database Applications with Python in SQL Server-Sponsor Talk</a>,\n",
       " <a href=\"/seattle2017/schedule/presentation/83/\">How to be a 10x Data Scientist</a>,\n",
       " <a href=\"/seattle2017/schedule/presentation/63/\">Code First, Math Later: Learning Neural Nets Through Implementation and Examples</a>,\n",
       " <a href=\"/seattle2017/schedule/presentation/71/\">Python and IoT: From Chips and Bits to Data Science</a>,\n",
       " <a href=\"/seattle2017/schedule/presentation/84/\">Applying the four-step \"Embed, Encode, Attend, Predict\" framework to predict document similarity</a>,\n",
       " <a href=\"/seattle2017/schedule/presentation/129/\">WorldRowing.com: End To End Data Analysis</a>,\n",
       " <a href=\"/seattle2017/schedule/presentation/64/\">How diversity drives excellence in our data-driven tech world</a>,\n",
       " <a href=\"/seattle2017/schedule/presentation/82/\">Big data processing with Apache Beam</a>,\n",
       " <a href=\"/seattle2017/schedule/presentation/72/\">Make it Work, Make it Right, Make it Fast - Debugging and Profiling in Dask</a>,\n",
       " <a href=\"/seattle2017/schedule/presentation/61/\">Python for .NET or .NET for Python</a>,\n",
       " <a href=\"/seattle2017/schedule/presentation/143/\">Moving notebooks into the cloud: challenges and lessons learned</a>,\n",
       " <a href=\"/seattle2017/schedule/presentation/89/\">Chatbots - Past, Present and Future</a>,\n",
       " <a href=\"/seattle2017/schedule/presentation/91/\">Of Mice &amp; Python: Building a Brain Observatory for Visual Behavior</a>,\n",
       " <a href=\"/seattle2017/schedule/presentation/76/\">Batch and Streaming Processing in the World of Data Engineering and Data Science</a>,\n",
       " <a href=\"/seattle2017/schedule/presentation/145/\">Forecasting Time Series Data at scale with the TICK stack</a>,\n",
       " <a href=\"/seattle2017/schedule/presentation/126/\">PyData \"Pub\" Quiz!</a>,\n",
       " <a href=\"/seattle2017/schedule/presentation/140/\">Keynote</a>,\n",
       " <a href=\"/seattle2017/schedule/presentation/111/\">Sirbarksalot: Bark Detection in Python</a>,\n",
       " <a href=\"/seattle2017/schedule/presentation/97/\">Mosaicking the Earth every day</a>,\n",
       " <a href=\"/seattle2017/schedule/presentation/74/\">High Fidelity Web Crawling in Python</a>,\n",
       " <a href=\"/seattle2017/schedule/presentation/94/\">Medical image processing using Microsoft Deep Learning framework (CNTK)</a>,\n",
       " <a href=\"/seattle2017/schedule/presentation/99/\">Building a community fountain around your data stream</a>,\n",
       " <a href=\"/seattle2017/schedule/presentation/146/\">High-Performance Distributed Tensorflow: Request Batching and Model Post-Processing Optimizations</a>,\n",
       " <a href=\"/seattle2017/schedule/presentation/70/\">Implementing and Training Predictive Customer Lifetime Value Models in Python</a>,\n",
       " <a href=\"/seattle2017/schedule/presentation/95/\">Learn to be a painter using Neural Style Painting</a>,\n",
       " <a href=\"/seattle2017/schedule/presentation/88/\">bqplot - Interactive Data Visualization in Jupyter</a>,\n",
       " <a href=\"/seattle2017/schedule/presentation/144/\">Making packages and packaging \"just work\"</a>,\n",
       " <a href=\"/seattle2017/schedule/presentation/117/\">Beginning Julia: Language and Landscape</a>,\n",
       " <a href=\"/seattle2017/schedule/presentation/101/\">Scaling Scikit-Learn</a>,\n",
       " <a href=\"/seattle2017/schedule/presentation/141/\">Interactive Data Analysis: Visualization and Beyond</a>,\n",
       " <a href=\"/seattle2017/schedule/presentation/133/\">JupyterLab+Real Time Collaboration</a>,\n",
       " <a href=\"/seattle2017/schedule/presentation/127/\">We came, we saw, we hacked. How to win a Big Data hackathon</a>,\n",
       " <a href=\"/seattle2017/schedule/presentation/130/\">Bokeh and Friends</a>,\n",
       " <a href=\"/seattle2017/schedule/presentation/100/\">Machine Learning Infrastructure at Stripe: Bridging from Python -&gt; JVM</a>,\n",
       " <a href=\"/seattle2017/schedule/presentation/92/\">BrainDrain: Using Machine Learning and Brain Waves to Detect Errors in Human Problem Solving</a>,\n",
       " <a href=\"/seattle2017/schedule/presentation/135/\">Waiting for Speaker Confirmation</a>,\n",
       " <a href=\"/seattle2017/schedule/presentation/132/\">Upgrading Legacy Projects: Lessons Learned</a>,\n",
       " <a href=\"/seattle2017/schedule/presentation/113/\">Robust Algorithms for Machine Learning</a>,\n",
       " <a href=\"/seattle2017/account/login/\">Login</a>,\n",
       " <a href=\"/seattle2017/account/signup/\">Sign up</a>,\n",
       " <a href=\"http://numfocus.org\"><img data-rjs=\"2\" src=\"https://pydata.org/seattle2017/static/images/numfocus.d4cdc3d55462.png\"/></a>]"
      ]
     },
     "execution_count": 15,
     "metadata": {},
     "output_type": "execute_result"
    }
   ],
   "source": [
    "# find all links within the page\n",
    "schedule.find_all('a',href=True)"
   ]
  },
  {
   "cell_type": "markdown",
   "metadata": {},
   "source": [
    "We note that we are interested only the ones which contain the string 'schedule/presentation'."
   ]
  },
  {
   "cell_type": "code",
   "execution_count": 16,
   "metadata": {
    "collapsed": true
   },
   "outputs": [],
   "source": [
    "# set the base url for the PyData website\n",
    "base_url = \"https://pydata.org\""
   ]
  },
  {
   "cell_type": "code",
   "execution_count": 17,
   "metadata": {},
   "outputs": [],
   "source": [
    "# find all other urls which have \"schedule/presentation\" link in them\n",
    "urls = [base_url+a['href'] for a in schedule.find_all('a', href=True)  if 'schedule/presentation' in a['href']]"
   ]
  },
  {
   "cell_type": "code",
   "execution_count": 18,
   "metadata": {},
   "outputs": [
    {
     "data": {
      "text/plain": [
       "[u'https://pydata.org/seattle2017/schedule/presentation/57/',\n",
       " u'https://pydata.org/seattle2017/schedule/presentation/104/',\n",
       " u'https://pydata.org/seattle2017/schedule/presentation/109/',\n",
       " u'https://pydata.org/seattle2017/schedule/presentation/125/',\n",
       " u'https://pydata.org/seattle2017/schedule/presentation/105/',\n",
       " u'https://pydata.org/seattle2017/schedule/presentation/58/',\n",
       " u'https://pydata.org/seattle2017/schedule/presentation/103/',\n",
       " u'https://pydata.org/seattle2017/schedule/presentation/108/',\n",
       " u'https://pydata.org/seattle2017/schedule/presentation/107/',\n",
       " u'https://pydata.org/seattle2017/schedule/presentation/110/',\n",
       " u'https://pydata.org/seattle2017/schedule/presentation/114/',\n",
       " u'https://pydata.org/seattle2017/schedule/presentation/102/',\n",
       " u'https://pydata.org/seattle2017/schedule/presentation/138/',\n",
       " u'https://pydata.org/seattle2017/schedule/presentation/67/',\n",
       " u'https://pydata.org/seattle2017/schedule/presentation/69/',\n",
       " u'https://pydata.org/seattle2017/schedule/presentation/62/',\n",
       " u'https://pydata.org/seattle2017/schedule/presentation/68/',\n",
       " u'https://pydata.org/seattle2017/schedule/presentation/79/',\n",
       " u'https://pydata.org/seattle2017/schedule/presentation/87/',\n",
       " u'https://pydata.org/seattle2017/schedule/presentation/81/',\n",
       " u'https://pydata.org/seattle2017/schedule/presentation/66/',\n",
       " u'https://pydata.org/seattle2017/schedule/presentation/90/',\n",
       " u'https://pydata.org/seattle2017/schedule/presentation/78/',\n",
       " u'https://pydata.org/seattle2017/schedule/presentation/142/',\n",
       " u'https://pydata.org/seattle2017/schedule/presentation/137/',\n",
       " u'https://pydata.org/seattle2017/schedule/presentation/139/',\n",
       " u'https://pydata.org/seattle2017/schedule/presentation/131/',\n",
       " u'https://pydata.org/seattle2017/schedule/presentation/136/',\n",
       " u'https://pydata.org/seattle2017/schedule/presentation/83/',\n",
       " u'https://pydata.org/seattle2017/schedule/presentation/63/',\n",
       " u'https://pydata.org/seattle2017/schedule/presentation/71/',\n",
       " u'https://pydata.org/seattle2017/schedule/presentation/84/',\n",
       " u'https://pydata.org/seattle2017/schedule/presentation/129/',\n",
       " u'https://pydata.org/seattle2017/schedule/presentation/64/',\n",
       " u'https://pydata.org/seattle2017/schedule/presentation/82/',\n",
       " u'https://pydata.org/seattle2017/schedule/presentation/72/',\n",
       " u'https://pydata.org/seattle2017/schedule/presentation/61/',\n",
       " u'https://pydata.org/seattle2017/schedule/presentation/143/',\n",
       " u'https://pydata.org/seattle2017/schedule/presentation/89/',\n",
       " u'https://pydata.org/seattle2017/schedule/presentation/91/',\n",
       " u'https://pydata.org/seattle2017/schedule/presentation/76/',\n",
       " u'https://pydata.org/seattle2017/schedule/presentation/145/',\n",
       " u'https://pydata.org/seattle2017/schedule/presentation/126/',\n",
       " u'https://pydata.org/seattle2017/schedule/presentation/140/',\n",
       " u'https://pydata.org/seattle2017/schedule/presentation/111/',\n",
       " u'https://pydata.org/seattle2017/schedule/presentation/97/',\n",
       " u'https://pydata.org/seattle2017/schedule/presentation/74/',\n",
       " u'https://pydata.org/seattle2017/schedule/presentation/94/',\n",
       " u'https://pydata.org/seattle2017/schedule/presentation/99/',\n",
       " u'https://pydata.org/seattle2017/schedule/presentation/146/',\n",
       " u'https://pydata.org/seattle2017/schedule/presentation/70/',\n",
       " u'https://pydata.org/seattle2017/schedule/presentation/95/',\n",
       " u'https://pydata.org/seattle2017/schedule/presentation/88/',\n",
       " u'https://pydata.org/seattle2017/schedule/presentation/144/',\n",
       " u'https://pydata.org/seattle2017/schedule/presentation/117/',\n",
       " u'https://pydata.org/seattle2017/schedule/presentation/101/',\n",
       " u'https://pydata.org/seattle2017/schedule/presentation/141/',\n",
       " u'https://pydata.org/seattle2017/schedule/presentation/133/',\n",
       " u'https://pydata.org/seattle2017/schedule/presentation/127/',\n",
       " u'https://pydata.org/seattle2017/schedule/presentation/130/',\n",
       " u'https://pydata.org/seattle2017/schedule/presentation/100/',\n",
       " u'https://pydata.org/seattle2017/schedule/presentation/92/',\n",
       " u'https://pydata.org/seattle2017/schedule/presentation/135/',\n",
       " u'https://pydata.org/seattle2017/schedule/presentation/132/',\n",
       " u'https://pydata.org/seattle2017/schedule/presentation/113/']"
      ]
     },
     "execution_count": 18,
     "metadata": {},
     "output_type": "execute_result"
    }
   ],
   "source": [
    "urls"
   ]
  },
  {
   "cell_type": "markdown",
   "metadata": {},
   "source": [
    "#### Extracting the Abstract from each Talk Webpage."
   ]
  },
  {
   "cell_type": "markdown",
   "metadata": {},
   "source": [
    "Let's scrape each individual link for the abstract."
   ]
  },
  {
   "cell_type": "code",
   "execution_count": 20,
   "metadata": {},
   "outputs": [
    {
     "name": "stderr",
     "output_type": "stream",
     "text": [
      "C:\\Users\\saisi\\Anaconda2\\lib\\site-packages\\urllib3\\connectionpool.py:852: InsecureRequestWarning: Unverified HTTPS request is being made. Adding certificate verification is strongly advised. See: https://urllib3.readthedocs.io/en/latest/advanced-usage.html#ssl-warnings\n",
      "  InsecureRequestWarning)\n"
     ]
    }
   ],
   "source": [
    "talk_webpage = http.request('GET', urls[0])\n",
    "talk = BeautifulSoup(talk_webpage.data,'html.parser')"
   ]
  },
  {
   "cell_type": "markdown",
   "metadata": {},
   "source": [
    "Find the part of the webpage which contains the Abstract:"
   ]
  },
  {
   "cell_type": "code",
   "execution_count": 21,
   "metadata": {},
   "outputs": [],
   "source": [
    "abstract = talk.find(\"div\", { \"class\" : \"abstract\" }).text"
   ]
  },
  {
   "cell_type": "code",
   "execution_count": 22,
   "metadata": {},
   "outputs": [
    {
     "data": {
      "text/plain": [
       "u'Topics to be covered include ...\\n\\nCognitive Toolkit (CNTK) installation\\nWhat is \"machine learning\"? [gradient descent example]\\nWhat is \"learning representations\"?\\nWhy do Graphics Processing Units (GPUs) help?\\nHow do we prevent overfitting?\\nCNTK Packages and Modules\\nDeep Learning Examples [including Convolutional Neural Network (CNN) and Long Short-Term Memory (LSTM) examples]\\n'"
      ]
     },
     "execution_count": 22,
     "metadata": {},
     "output_type": "execute_result"
    }
   ],
   "source": [
    "abstract"
   ]
  },
  {
   "cell_type": "code",
   "execution_count": 23,
   "metadata": {},
   "outputs": [
    {
     "data": {
      "text/plain": [
       "unicode"
      ]
     },
     "execution_count": 23,
     "metadata": {},
     "output_type": "execute_result"
    }
   ],
   "source": [
    "type(abstract)"
   ]
  },
  {
   "cell_type": "markdown",
   "metadata": {},
   "source": [
    "#### Text Processing"
   ]
  },
  {
   "cell_type": "markdown",
   "metadata": {},
   "source": [
    "One of the most popular natural language processing packages in Python is `nltk`."
   ]
  },
  {
   "cell_type": "code",
   "execution_count": 24,
   "metadata": {
    "collapsed": true
   },
   "outputs": [],
   "source": [
    "import nltk"
   ]
  },
  {
   "cell_type": "markdown",
   "metadata": {},
   "source": [
    "It requires some corpora to be loaded when used for first time (get the nltk corpora):"
   ]
  },
  {
   "cell_type": "code",
   "execution_count": null,
   "metadata": {},
   "outputs": [],
   "source": [
    "nltk.download()"
   ]
  },
  {
   "cell_type": "markdown",
   "metadata": {},
   "source": [
    "We can now convert the text string into tokens and apply different preprocessing steps to it."
   ]
  },
  {
   "cell_type": "code",
   "execution_count": 25,
   "metadata": {
    "collapsed": true
   },
   "outputs": [],
   "source": [
    "from nltk.tokenize import sent_tokenize, word_tokenize"
   ]
  },
  {
   "cell_type": "code",
   "execution_count": 26,
   "metadata": {
    "collapsed": true
   },
   "outputs": [],
   "source": [
    "from nltk.tokenize import RegexpTokenizer\n",
    "tokenizer = RegexpTokenizer(r'\\w+')"
   ]
  },
  {
   "cell_type": "code",
   "execution_count": 27,
   "metadata": {},
   "outputs": [
    {
     "data": {
      "text/plain": [
       "[u'Topics',\n",
       " u'to',\n",
       " u'be',\n",
       " u'covered',\n",
       " u'include',\n",
       " u'Cognitive',\n",
       " u'Toolkit',\n",
       " u'CNTK',\n",
       " u'installation',\n",
       " u'What',\n",
       " u'is',\n",
       " u'machine',\n",
       " u'learning',\n",
       " u'gradient',\n",
       " u'descent',\n",
       " u'example',\n",
       " u'What',\n",
       " u'is',\n",
       " u'learning',\n",
       " u'representations',\n",
       " u'Why',\n",
       " u'do',\n",
       " u'Graphics',\n",
       " u'Processing',\n",
       " u'Units',\n",
       " u'GPUs',\n",
       " u'help',\n",
       " u'How',\n",
       " u'do',\n",
       " u'we',\n",
       " u'prevent',\n",
       " u'overfitting',\n",
       " u'CNTK',\n",
       " u'Packages',\n",
       " u'and',\n",
       " u'Modules',\n",
       " u'Deep',\n",
       " u'Learning',\n",
       " u'Examples',\n",
       " u'including',\n",
       " u'Convolutional',\n",
       " u'Neural',\n",
       " u'Network',\n",
       " u'CNN',\n",
       " u'and',\n",
       " u'Long',\n",
       " u'Short',\n",
       " u'Term',\n",
       " u'Memory',\n",
       " u'LSTM',\n",
       " u'examples']"
      ]
     },
     "execution_count": 27,
     "metadata": {},
     "output_type": "execute_result"
    }
   ],
   "source": [
    "# convert string into tokens\n",
    "tokens = tokenizer.tokenize(abstract)\n",
    "tokens"
   ]
  },
  {
   "cell_type": "code",
   "execution_count": 28,
   "metadata": {},
   "outputs": [],
   "source": [
    "# making words lower case\n",
    "lower_tokens = [tok.lower() for tok in tokens]"
   ]
  },
  {
   "cell_type": "code",
   "execution_count": 29,
   "metadata": {},
   "outputs": [],
   "source": [
    "# remove stop words\n",
    "from nltk.corpus import stopwords\n",
    "stopwords = stopwords.words('english')\n",
    "nostop_tokens = [tok for tok in lower_tokens if tok not in stopwords]"
   ]
  },
  {
   "cell_type": "code",
   "execution_count": 30,
   "metadata": {},
   "outputs": [],
   "source": [
    "# stemming\n",
    "lancaster = nltk.LancasterStemmer()\n",
    "stemmed_tokens = [lancaster.stem(t) for t in nostop_tokens]"
   ]
  },
  {
   "cell_type": "code",
   "execution_count": 31,
   "metadata": {},
   "outputs": [
    {
     "data": {
      "text/plain": [
       "[u'top',\n",
       " u'cov',\n",
       " u'includ',\n",
       " u'cognit',\n",
       " u'toolkit',\n",
       " u'cntk',\n",
       " u'instal',\n",
       " u'machin',\n",
       " u'learn',\n",
       " u'grady',\n",
       " u'desc',\n",
       " u'exampl',\n",
       " u'learn',\n",
       " u'repres',\n",
       " u'graph',\n",
       " u'process',\n",
       " u'unit',\n",
       " u'gpu',\n",
       " u'help',\n",
       " u'prev',\n",
       " u'overfit',\n",
       " u'cntk',\n",
       " u'pack',\n",
       " u'mod',\n",
       " u'deep',\n",
       " u'learn',\n",
       " u'exampl',\n",
       " u'includ',\n",
       " u'convolv',\n",
       " u'neur',\n",
       " u'network',\n",
       " u'cnn',\n",
       " u'long',\n",
       " u'short',\n",
       " u'term',\n",
       " u'mem',\n",
       " u'lstm',\n",
       " u'exampl']"
      ]
     },
     "execution_count": 31,
     "metadata": {},
     "output_type": "execute_result"
    }
   ],
   "source": [
    "stemmed_tokens"
   ]
  },
  {
   "cell_type": "code",
   "execution_count": null,
   "metadata": {
    "collapsed": true
   },
   "outputs": [],
   "source": []
  },
  {
   "cell_type": "code",
   "execution_count": null,
   "metadata": {},
   "outputs": [],
   "source": []
  },
  {
   "cell_type": "code",
   "execution_count": null,
   "metadata": {
    "collapsed": true
   },
   "outputs": [],
   "source": []
  },
  {
   "cell_type": "markdown",
   "metadata": {},
   "source": [
    "Create a preprocessing function with the steps above:"
   ]
  },
  {
   "cell_type": "code",
   "execution_count": 32,
   "metadata": {
    "collapsed": true
   },
   "outputs": [],
   "source": [
    "def abstractpreprocess(url):\n",
    "    \n",
    "    from nltk.tokenize import RegexpTokenizer\n",
    "    from nltk.corpus import stopwords\n",
    "    \n",
    "    talk_webpage = request.urlopen(url).read()\n",
    "    talk = BeautifulSoup(talk_webpage,'html.parser')\n",
    "    abstract = talk.find(\"div\", { \"class\" : \"abstract\" }).text\n",
    "    \n",
    "    # tokenize\n",
    "   \n",
    "    # make lower case\n",
    "    \n",
    "    # remove stop words\n",
    "    \n",
    "    # stem\n",
    "    \n",
    "\n",
    "    \n",
    "    \n",
    "    "
   ]
  },
  {
   "cell_type": "code",
   "execution_count": 37,
   "metadata": {
    "collapsed": true
   },
   "outputs": [],
   "source": [
    "def abstract_preprocess(url):\n",
    "    \n",
    "    from nltk.tokenize import RegexpTokenizer\n",
    "    from nltk.corpus import stopwords\n",
    "    \n",
    "    talk_webpage = http.request('GET', url)\n",
    "    talk = BeautifulSoup(talk_webpage.data,'html.parser')\n",
    "    abstract = talk.find(\"div\", { \"class\" : \"abstract\" }).text\n",
    "    \n",
    "    # tokenize\n",
    "    tokens = tokenizer.tokenize(abstract)\n",
    "    \n",
    "    # make lower case\n",
    "    tokens = [tok.lower() for tok in tokens]\n",
    "    \n",
    "    # stem\n",
    "    lancaster = nltk.LancasterStemmer()\n",
    "    tokens = [lancaster.stem(tok) for tok in tokens]\n",
    "    \n",
    "    # remove stop words\n",
    "    stopwords = stopwords.words('english')\n",
    "    tokens = [tok for tok in tokens if tok not in stopwords]\n",
    "    \n",
    "    return(tokens)\n",
    "    "
   ]
  },
  {
   "cell_type": "code",
   "execution_count": 38,
   "metadata": {},
   "outputs": [
    {
     "name": "stderr",
     "output_type": "stream",
     "text": [
      "C:\\Users\\saisi\\Anaconda2\\lib\\site-packages\\urllib3\\connectionpool.py:852: InsecureRequestWarning: Unverified HTTPS request is being made. Adding certificate verification is strongly advised. See: https://urllib3.readthedocs.io/en/latest/advanced-usage.html#ssl-warnings\n",
      "  InsecureRequestWarning)\n",
      "C:\\Users\\saisi\\Anaconda2\\lib\\site-packages\\urllib3\\connectionpool.py:852: InsecureRequestWarning: Unverified HTTPS request is being made. Adding certificate verification is strongly advised. See: https://urllib3.readthedocs.io/en/latest/advanced-usage.html#ssl-warnings\n",
      "  InsecureRequestWarning)\n",
      "C:\\Users\\saisi\\Anaconda2\\lib\\site-packages\\urllib3\\connectionpool.py:852: InsecureRequestWarning: Unverified HTTPS request is being made. Adding certificate verification is strongly advised. See: https://urllib3.readthedocs.io/en/latest/advanced-usage.html#ssl-warnings\n",
      "  InsecureRequestWarning)\n",
      "C:\\Users\\saisi\\Anaconda2\\lib\\site-packages\\urllib3\\connectionpool.py:852: InsecureRequestWarning: Unverified HTTPS request is being made. Adding certificate verification is strongly advised. See: https://urllib3.readthedocs.io/en/latest/advanced-usage.html#ssl-warnings\n",
      "  InsecureRequestWarning)\n",
      "C:\\Users\\saisi\\Anaconda2\\lib\\site-packages\\urllib3\\connectionpool.py:852: InsecureRequestWarning: Unverified HTTPS request is being made. Adding certificate verification is strongly advised. See: https://urllib3.readthedocs.io/en/latest/advanced-usage.html#ssl-warnings\n",
      "  InsecureRequestWarning)\n",
      "C:\\Users\\saisi\\Anaconda2\\lib\\site-packages\\urllib3\\connectionpool.py:852: InsecureRequestWarning: Unverified HTTPS request is being made. Adding certificate verification is strongly advised. See: https://urllib3.readthedocs.io/en/latest/advanced-usage.html#ssl-warnings\n",
      "  InsecureRequestWarning)\n",
      "C:\\Users\\saisi\\Anaconda2\\lib\\site-packages\\urllib3\\connectionpool.py:852: InsecureRequestWarning: Unverified HTTPS request is being made. Adding certificate verification is strongly advised. See: https://urllib3.readthedocs.io/en/latest/advanced-usage.html#ssl-warnings\n",
      "  InsecureRequestWarning)\n",
      "C:\\Users\\saisi\\Anaconda2\\lib\\site-packages\\urllib3\\connectionpool.py:852: InsecureRequestWarning: Unverified HTTPS request is being made. Adding certificate verification is strongly advised. See: https://urllib3.readthedocs.io/en/latest/advanced-usage.html#ssl-warnings\n",
      "  InsecureRequestWarning)\n",
      "C:\\Users\\saisi\\Anaconda2\\lib\\site-packages\\urllib3\\connectionpool.py:852: InsecureRequestWarning: Unverified HTTPS request is being made. Adding certificate verification is strongly advised. See: https://urllib3.readthedocs.io/en/latest/advanced-usage.html#ssl-warnings\n",
      "  InsecureRequestWarning)\n",
      "C:\\Users\\saisi\\Anaconda2\\lib\\site-packages\\urllib3\\connectionpool.py:852: InsecureRequestWarning: Unverified HTTPS request is being made. Adding certificate verification is strongly advised. See: https://urllib3.readthedocs.io/en/latest/advanced-usage.html#ssl-warnings\n",
      "  InsecureRequestWarning)\n",
      "C:\\Users\\saisi\\Anaconda2\\lib\\site-packages\\urllib3\\connectionpool.py:852: InsecureRequestWarning: Unverified HTTPS request is being made. Adding certificate verification is strongly advised. See: https://urllib3.readthedocs.io/en/latest/advanced-usage.html#ssl-warnings\n",
      "  InsecureRequestWarning)\n",
      "C:\\Users\\saisi\\Anaconda2\\lib\\site-packages\\urllib3\\connectionpool.py:852: InsecureRequestWarning: Unverified HTTPS request is being made. Adding certificate verification is strongly advised. See: https://urllib3.readthedocs.io/en/latest/advanced-usage.html#ssl-warnings\n",
      "  InsecureRequestWarning)\n",
      "C:\\Users\\saisi\\Anaconda2\\lib\\site-packages\\urllib3\\connectionpool.py:852: InsecureRequestWarning: Unverified HTTPS request is being made. Adding certificate verification is strongly advised. See: https://urllib3.readthedocs.io/en/latest/advanced-usage.html#ssl-warnings\n",
      "  InsecureRequestWarning)\n",
      "C:\\Users\\saisi\\Anaconda2\\lib\\site-packages\\urllib3\\connectionpool.py:852: InsecureRequestWarning: Unverified HTTPS request is being made. Adding certificate verification is strongly advised. See: https://urllib3.readthedocs.io/en/latest/advanced-usage.html#ssl-warnings\n",
      "  InsecureRequestWarning)\n",
      "C:\\Users\\saisi\\Anaconda2\\lib\\site-packages\\urllib3\\connectionpool.py:852: InsecureRequestWarning: Unverified HTTPS request is being made. Adding certificate verification is strongly advised. See: https://urllib3.readthedocs.io/en/latest/advanced-usage.html#ssl-warnings\n",
      "  InsecureRequestWarning)\n",
      "C:\\Users\\saisi\\Anaconda2\\lib\\site-packages\\urllib3\\connectionpool.py:852: InsecureRequestWarning: Unverified HTTPS request is being made. Adding certificate verification is strongly advised. See: https://urllib3.readthedocs.io/en/latest/advanced-usage.html#ssl-warnings\n",
      "  InsecureRequestWarning)\n",
      "C:\\Users\\saisi\\Anaconda2\\lib\\site-packages\\urllib3\\connectionpool.py:852: InsecureRequestWarning: Unverified HTTPS request is being made. Adding certificate verification is strongly advised. See: https://urllib3.readthedocs.io/en/latest/advanced-usage.html#ssl-warnings\n",
      "  InsecureRequestWarning)\n",
      "C:\\Users\\saisi\\Anaconda2\\lib\\site-packages\\urllib3\\connectionpool.py:852: InsecureRequestWarning: Unverified HTTPS request is being made. Adding certificate verification is strongly advised. See: https://urllib3.readthedocs.io/en/latest/advanced-usage.html#ssl-warnings\n",
      "  InsecureRequestWarning)\n",
      "C:\\Users\\saisi\\Anaconda2\\lib\\site-packages\\urllib3\\connectionpool.py:852: InsecureRequestWarning: Unverified HTTPS request is being made. Adding certificate verification is strongly advised. See: https://urllib3.readthedocs.io/en/latest/advanced-usage.html#ssl-warnings\n",
      "  InsecureRequestWarning)\n",
      "C:\\Users\\saisi\\Anaconda2\\lib\\site-packages\\urllib3\\connectionpool.py:852: InsecureRequestWarning: Unverified HTTPS request is being made. Adding certificate verification is strongly advised. See: https://urllib3.readthedocs.io/en/latest/advanced-usage.html#ssl-warnings\n",
      "  InsecureRequestWarning)\n",
      "C:\\Users\\saisi\\Anaconda2\\lib\\site-packages\\urllib3\\connectionpool.py:852: InsecureRequestWarning: Unverified HTTPS request is being made. Adding certificate verification is strongly advised. See: https://urllib3.readthedocs.io/en/latest/advanced-usage.html#ssl-warnings\n",
      "  InsecureRequestWarning)\n",
      "C:\\Users\\saisi\\Anaconda2\\lib\\site-packages\\urllib3\\connectionpool.py:852: InsecureRequestWarning: Unverified HTTPS request is being made. Adding certificate verification is strongly advised. See: https://urllib3.readthedocs.io/en/latest/advanced-usage.html#ssl-warnings\n",
      "  InsecureRequestWarning)\n",
      "C:\\Users\\saisi\\Anaconda2\\lib\\site-packages\\urllib3\\connectionpool.py:852: InsecureRequestWarning: Unverified HTTPS request is being made. Adding certificate verification is strongly advised. See: https://urllib3.readthedocs.io/en/latest/advanced-usage.html#ssl-warnings\n",
      "  InsecureRequestWarning)\n",
      "C:\\Users\\saisi\\Anaconda2\\lib\\site-packages\\urllib3\\connectionpool.py:852: InsecureRequestWarning: Unverified HTTPS request is being made. Adding certificate verification is strongly advised. See: https://urllib3.readthedocs.io/en/latest/advanced-usage.html#ssl-warnings\n",
      "  InsecureRequestWarning)\n",
      "C:\\Users\\saisi\\Anaconda2\\lib\\site-packages\\urllib3\\connectionpool.py:852: InsecureRequestWarning: Unverified HTTPS request is being made. Adding certificate verification is strongly advised. See: https://urllib3.readthedocs.io/en/latest/advanced-usage.html#ssl-warnings\n",
      "  InsecureRequestWarning)\n",
      "C:\\Users\\saisi\\Anaconda2\\lib\\site-packages\\urllib3\\connectionpool.py:852: InsecureRequestWarning: Unverified HTTPS request is being made. Adding certificate verification is strongly advised. See: https://urllib3.readthedocs.io/en/latest/advanced-usage.html#ssl-warnings\n",
      "  InsecureRequestWarning)\n",
      "C:\\Users\\saisi\\Anaconda2\\lib\\site-packages\\urllib3\\connectionpool.py:852: InsecureRequestWarning: Unverified HTTPS request is being made. Adding certificate verification is strongly advised. See: https://urllib3.readthedocs.io/en/latest/advanced-usage.html#ssl-warnings\n",
      "  InsecureRequestWarning)\n",
      "C:\\Users\\saisi\\Anaconda2\\lib\\site-packages\\urllib3\\connectionpool.py:852: InsecureRequestWarning: Unverified HTTPS request is being made. Adding certificate verification is strongly advised. See: https://urllib3.readthedocs.io/en/latest/advanced-usage.html#ssl-warnings\n",
      "  InsecureRequestWarning)\n"
     ]
    },
    {
     "name": "stderr",
     "output_type": "stream",
     "text": [
      "C:\\Users\\saisi\\Anaconda2\\lib\\site-packages\\urllib3\\connectionpool.py:852: InsecureRequestWarning: Unverified HTTPS request is being made. Adding certificate verification is strongly advised. See: https://urllib3.readthedocs.io/en/latest/advanced-usage.html#ssl-warnings\n",
      "  InsecureRequestWarning)\n",
      "C:\\Users\\saisi\\Anaconda2\\lib\\site-packages\\urllib3\\connectionpool.py:852: InsecureRequestWarning: Unverified HTTPS request is being made. Adding certificate verification is strongly advised. See: https://urllib3.readthedocs.io/en/latest/advanced-usage.html#ssl-warnings\n",
      "  InsecureRequestWarning)\n",
      "C:\\Users\\saisi\\Anaconda2\\lib\\site-packages\\urllib3\\connectionpool.py:852: InsecureRequestWarning: Unverified HTTPS request is being made. Adding certificate verification is strongly advised. See: https://urllib3.readthedocs.io/en/latest/advanced-usage.html#ssl-warnings\n",
      "  InsecureRequestWarning)\n",
      "C:\\Users\\saisi\\Anaconda2\\lib\\site-packages\\urllib3\\connectionpool.py:852: InsecureRequestWarning: Unverified HTTPS request is being made. Adding certificate verification is strongly advised. See: https://urllib3.readthedocs.io/en/latest/advanced-usage.html#ssl-warnings\n",
      "  InsecureRequestWarning)\n",
      "C:\\Users\\saisi\\Anaconda2\\lib\\site-packages\\urllib3\\connectionpool.py:852: InsecureRequestWarning: Unverified HTTPS request is being made. Adding certificate verification is strongly advised. See: https://urllib3.readthedocs.io/en/latest/advanced-usage.html#ssl-warnings\n",
      "  InsecureRequestWarning)\n",
      "C:\\Users\\saisi\\Anaconda2\\lib\\site-packages\\urllib3\\connectionpool.py:852: InsecureRequestWarning: Unverified HTTPS request is being made. Adding certificate verification is strongly advised. See: https://urllib3.readthedocs.io/en/latest/advanced-usage.html#ssl-warnings\n",
      "  InsecureRequestWarning)\n",
      "C:\\Users\\saisi\\Anaconda2\\lib\\site-packages\\urllib3\\connectionpool.py:852: InsecureRequestWarning: Unverified HTTPS request is being made. Adding certificate verification is strongly advised. See: https://urllib3.readthedocs.io/en/latest/advanced-usage.html#ssl-warnings\n",
      "  InsecureRequestWarning)\n",
      "C:\\Users\\saisi\\Anaconda2\\lib\\site-packages\\urllib3\\connectionpool.py:852: InsecureRequestWarning: Unverified HTTPS request is being made. Adding certificate verification is strongly advised. See: https://urllib3.readthedocs.io/en/latest/advanced-usage.html#ssl-warnings\n",
      "  InsecureRequestWarning)\n",
      "C:\\Users\\saisi\\Anaconda2\\lib\\site-packages\\urllib3\\connectionpool.py:852: InsecureRequestWarning: Unverified HTTPS request is being made. Adding certificate verification is strongly advised. See: https://urllib3.readthedocs.io/en/latest/advanced-usage.html#ssl-warnings\n",
      "  InsecureRequestWarning)\n",
      "C:\\Users\\saisi\\Anaconda2\\lib\\site-packages\\urllib3\\connectionpool.py:852: InsecureRequestWarning: Unverified HTTPS request is being made. Adding certificate verification is strongly advised. See: https://urllib3.readthedocs.io/en/latest/advanced-usage.html#ssl-warnings\n",
      "  InsecureRequestWarning)\n",
      "C:\\Users\\saisi\\Anaconda2\\lib\\site-packages\\urllib3\\connectionpool.py:852: InsecureRequestWarning: Unverified HTTPS request is being made. Adding certificate verification is strongly advised. See: https://urllib3.readthedocs.io/en/latest/advanced-usage.html#ssl-warnings\n",
      "  InsecureRequestWarning)\n",
      "C:\\Users\\saisi\\Anaconda2\\lib\\site-packages\\urllib3\\connectionpool.py:852: InsecureRequestWarning: Unverified HTTPS request is being made. Adding certificate verification is strongly advised. See: https://urllib3.readthedocs.io/en/latest/advanced-usage.html#ssl-warnings\n",
      "  InsecureRequestWarning)\n",
      "C:\\Users\\saisi\\Anaconda2\\lib\\site-packages\\urllib3\\connectionpool.py:852: InsecureRequestWarning: Unverified HTTPS request is being made. Adding certificate verification is strongly advised. See: https://urllib3.readthedocs.io/en/latest/advanced-usage.html#ssl-warnings\n",
      "  InsecureRequestWarning)\n",
      "C:\\Users\\saisi\\Anaconda2\\lib\\site-packages\\urllib3\\connectionpool.py:852: InsecureRequestWarning: Unverified HTTPS request is being made. Adding certificate verification is strongly advised. See: https://urllib3.readthedocs.io/en/latest/advanced-usage.html#ssl-warnings\n",
      "  InsecureRequestWarning)\n",
      "C:\\Users\\saisi\\Anaconda2\\lib\\site-packages\\urllib3\\connectionpool.py:852: InsecureRequestWarning: Unverified HTTPS request is being made. Adding certificate verification is strongly advised. See: https://urllib3.readthedocs.io/en/latest/advanced-usage.html#ssl-warnings\n",
      "  InsecureRequestWarning)\n",
      "C:\\Users\\saisi\\Anaconda2\\lib\\site-packages\\urllib3\\connectionpool.py:852: InsecureRequestWarning: Unverified HTTPS request is being made. Adding certificate verification is strongly advised. See: https://urllib3.readthedocs.io/en/latest/advanced-usage.html#ssl-warnings\n",
      "  InsecureRequestWarning)\n",
      "C:\\Users\\saisi\\Anaconda2\\lib\\site-packages\\urllib3\\connectionpool.py:852: InsecureRequestWarning: Unverified HTTPS request is being made. Adding certificate verification is strongly advised. See: https://urllib3.readthedocs.io/en/latest/advanced-usage.html#ssl-warnings\n",
      "  InsecureRequestWarning)\n",
      "C:\\Users\\saisi\\Anaconda2\\lib\\site-packages\\urllib3\\connectionpool.py:852: InsecureRequestWarning: Unverified HTTPS request is being made. Adding certificate verification is strongly advised. See: https://urllib3.readthedocs.io/en/latest/advanced-usage.html#ssl-warnings\n",
      "  InsecureRequestWarning)\n",
      "C:\\Users\\saisi\\Anaconda2\\lib\\site-packages\\urllib3\\connectionpool.py:852: InsecureRequestWarning: Unverified HTTPS request is being made. Adding certificate verification is strongly advised. See: https://urllib3.readthedocs.io/en/latest/advanced-usage.html#ssl-warnings\n",
      "  InsecureRequestWarning)\n",
      "C:\\Users\\saisi\\Anaconda2\\lib\\site-packages\\urllib3\\connectionpool.py:852: InsecureRequestWarning: Unverified HTTPS request is being made. Adding certificate verification is strongly advised. See: https://urllib3.readthedocs.io/en/latest/advanced-usage.html#ssl-warnings\n",
      "  InsecureRequestWarning)\n",
      "C:\\Users\\saisi\\Anaconda2\\lib\\site-packages\\urllib3\\connectionpool.py:852: InsecureRequestWarning: Unverified HTTPS request is being made. Adding certificate verification is strongly advised. See: https://urllib3.readthedocs.io/en/latest/advanced-usage.html#ssl-warnings\n",
      "  InsecureRequestWarning)\n",
      "C:\\Users\\saisi\\Anaconda2\\lib\\site-packages\\urllib3\\connectionpool.py:852: InsecureRequestWarning: Unverified HTTPS request is being made. Adding certificate verification is strongly advised. See: https://urllib3.readthedocs.io/en/latest/advanced-usage.html#ssl-warnings\n",
      "  InsecureRequestWarning)\n",
      "C:\\Users\\saisi\\Anaconda2\\lib\\site-packages\\urllib3\\connectionpool.py:852: InsecureRequestWarning: Unverified HTTPS request is being made. Adding certificate verification is strongly advised. See: https://urllib3.readthedocs.io/en/latest/advanced-usage.html#ssl-warnings\n",
      "  InsecureRequestWarning)\n",
      "C:\\Users\\saisi\\Anaconda2\\lib\\site-packages\\urllib3\\connectionpool.py:852: InsecureRequestWarning: Unverified HTTPS request is being made. Adding certificate verification is strongly advised. See: https://urllib3.readthedocs.io/en/latest/advanced-usage.html#ssl-warnings\n",
      "  InsecureRequestWarning)\n",
      "C:\\Users\\saisi\\Anaconda2\\lib\\site-packages\\urllib3\\connectionpool.py:852: InsecureRequestWarning: Unverified HTTPS request is being made. Adding certificate verification is strongly advised. See: https://urllib3.readthedocs.io/en/latest/advanced-usage.html#ssl-warnings\n",
      "  InsecureRequestWarning)\n",
      "C:\\Users\\saisi\\Anaconda2\\lib\\site-packages\\urllib3\\connectionpool.py:852: InsecureRequestWarning: Unverified HTTPS request is being made. Adding certificate verification is strongly advised. See: https://urllib3.readthedocs.io/en/latest/advanced-usage.html#ssl-warnings\n",
      "  InsecureRequestWarning)\n",
      "C:\\Users\\saisi\\Anaconda2\\lib\\site-packages\\urllib3\\connectionpool.py:852: InsecureRequestWarning: Unverified HTTPS request is being made. Adding certificate verification is strongly advised. See: https://urllib3.readthedocs.io/en/latest/advanced-usage.html#ssl-warnings\n",
      "  InsecureRequestWarning)\n",
      "C:\\Users\\saisi\\Anaconda2\\lib\\site-packages\\urllib3\\connectionpool.py:852: InsecureRequestWarning: Unverified HTTPS request is being made. Adding certificate verification is strongly advised. See: https://urllib3.readthedocs.io/en/latest/advanced-usage.html#ssl-warnings\n",
      "  InsecureRequestWarning)\n"
     ]
    },
    {
     "name": "stderr",
     "output_type": "stream",
     "text": [
      "C:\\Users\\saisi\\Anaconda2\\lib\\site-packages\\urllib3\\connectionpool.py:852: InsecureRequestWarning: Unverified HTTPS request is being made. Adding certificate verification is strongly advised. See: https://urllib3.readthedocs.io/en/latest/advanced-usage.html#ssl-warnings\n",
      "  InsecureRequestWarning)\n",
      "C:\\Users\\saisi\\Anaconda2\\lib\\site-packages\\urllib3\\connectionpool.py:852: InsecureRequestWarning: Unverified HTTPS request is being made. Adding certificate verification is strongly advised. See: https://urllib3.readthedocs.io/en/latest/advanced-usage.html#ssl-warnings\n",
      "  InsecureRequestWarning)\n",
      "C:\\Users\\saisi\\Anaconda2\\lib\\site-packages\\urllib3\\connectionpool.py:852: InsecureRequestWarning: Unverified HTTPS request is being made. Adding certificate verification is strongly advised. See: https://urllib3.readthedocs.io/en/latest/advanced-usage.html#ssl-warnings\n",
      "  InsecureRequestWarning)\n",
      "C:\\Users\\saisi\\Anaconda2\\lib\\site-packages\\urllib3\\connectionpool.py:852: InsecureRequestWarning: Unverified HTTPS request is being made. Adding certificate verification is strongly advised. See: https://urllib3.readthedocs.io/en/latest/advanced-usage.html#ssl-warnings\n",
      "  InsecureRequestWarning)\n",
      "C:\\Users\\saisi\\Anaconda2\\lib\\site-packages\\urllib3\\connectionpool.py:852: InsecureRequestWarning: Unverified HTTPS request is being made. Adding certificate verification is strongly advised. See: https://urllib3.readthedocs.io/en/latest/advanced-usage.html#ssl-warnings\n",
      "  InsecureRequestWarning)\n",
      "C:\\Users\\saisi\\Anaconda2\\lib\\site-packages\\urllib3\\connectionpool.py:852: InsecureRequestWarning: Unverified HTTPS request is being made. Adding certificate verification is strongly advised. See: https://urllib3.readthedocs.io/en/latest/advanced-usage.html#ssl-warnings\n",
      "  InsecureRequestWarning)\n",
      "C:\\Users\\saisi\\Anaconda2\\lib\\site-packages\\urllib3\\connectionpool.py:852: InsecureRequestWarning: Unverified HTTPS request is being made. Adding certificate verification is strongly advised. See: https://urllib3.readthedocs.io/en/latest/advanced-usage.html#ssl-warnings\n",
      "  InsecureRequestWarning)\n",
      "C:\\Users\\saisi\\Anaconda2\\lib\\site-packages\\urllib3\\connectionpool.py:852: InsecureRequestWarning: Unverified HTTPS request is being made. Adding certificate verification is strongly advised. See: https://urllib3.readthedocs.io/en/latest/advanced-usage.html#ssl-warnings\n",
      "  InsecureRequestWarning)\n",
      "C:\\Users\\saisi\\Anaconda2\\lib\\site-packages\\urllib3\\connectionpool.py:852: InsecureRequestWarning: Unverified HTTPS request is being made. Adding certificate verification is strongly advised. See: https://urllib3.readthedocs.io/en/latest/advanced-usage.html#ssl-warnings\n",
      "  InsecureRequestWarning)\n"
     ]
    }
   ],
   "source": [
    "# preprocess the abstract in each url\n",
    "abstracts = [abstract_preprocess(url) for url in urls]"
   ]
  },
  {
   "cell_type": "code",
   "execution_count": 39,
   "metadata": {},
   "outputs": [
    {
     "data": {
      "text/plain": [
       "65"
      ]
     },
     "execution_count": 39,
     "metadata": {},
     "output_type": "execute_result"
    }
   ],
   "source": [
    "len(abstracts)"
   ]
  },
  {
   "cell_type": "markdown",
   "metadata": {},
   "source": [
    "#### Topic Modeling"
   ]
  },
  {
   "cell_type": "markdown",
   "metadata": {},
   "source": [
    "One of the approaches to extract topics from a collection of documents is to build the [TF-IDF](http://brandonrose.org/clustering#Tf-idf-and-document-similarity) (Term Frequency-Inverse Document Frequency) matrix for the dataset."
   ]
  },
  {
   "cell_type": "markdown",
   "metadata": {},
   "source": [
    "To use in scikit.learn the tokens need to be directly converted to string:"
   ]
  },
  {
   "cell_type": "code",
   "execution_count": 40,
   "metadata": {
    "collapsed": true
   },
   "outputs": [],
   "source": [
    "# converting to string\n",
    "final_abstracts = []\n",
    "for abstract in abstracts:\n",
    "    for word in abstract:\n",
    "        n = abstract.index(word)\n",
    "        if n == 0:\n",
    "            string = abstract[n]\n",
    "        else:\n",
    "            string = string + \" \" + abstract[n]\n",
    "    final_abstracts.append(string)"
   ]
  },
  {
   "cell_type": "code",
   "execution_count": null,
   "metadata": {},
   "outputs": [],
   "source": []
  },
  {
   "cell_type": "markdown",
   "metadata": {},
   "source": [
    "The matrix is obtained via the TfidfVectorizer."
   ]
  },
  {
   "cell_type": "code",
   "execution_count": 41,
   "metadata": {},
   "outputs": [],
   "source": [
    "from sklearn.feature_extraction.text import TfidfVectorizer"
   ]
  },
  {
   "cell_type": "code",
   "execution_count": 42,
   "metadata": {},
   "outputs": [],
   "source": [
    "tfidf_vectorizer = TfidfVectorizer(min_df=2, max_df=0.95)"
   ]
  },
  {
   "cell_type": "code",
   "execution_count": 43,
   "metadata": {},
   "outputs": [],
   "source": [
    "tfidf_matrix = tfidf_vectorizer.fit_transform(final_abstracts)"
   ]
  },
  {
   "cell_type": "code",
   "execution_count": 44,
   "metadata": {},
   "outputs": [
    {
     "data": {
      "text/plain": [
       "<65x587 sparse matrix of type '<type 'numpy.float64'>'\n",
       "\twith 2782 stored elements in Compressed Sparse Row format>"
      ]
     },
     "execution_count": 44,
     "metadata": {},
     "output_type": "execute_result"
    }
   ],
   "source": [
    "tfidf_matrix"
   ]
  },
  {
   "cell_type": "code",
   "execution_count": null,
   "metadata": {},
   "outputs": [],
   "source": []
  },
  {
   "cell_type": "markdown",
   "metadata": {},
   "source": [
    "We can decompose the tf-idf matrix into topics and weights by Nonnegative Matrix Factorization."
   ]
  },
  {
   "cell_type": "code",
   "execution_count": 45,
   "metadata": {
    "collapsed": true
   },
   "outputs": [],
   "source": [
    "n_topics = 5  # This number matters a lot.\n",
    "\n",
    "from sklearn.decomposition import NMF\n",
    "model = NMF(init=\"nndsvd\", n_components=n_topics, random_state=1)\n",
    "W_matrix = model.fit_transform(tfidf_matrix)\n",
    "H_matrix = model.components_"
   ]
  },
  {
   "cell_type": "code",
   "execution_count": 46,
   "metadata": {},
   "outputs": [
    {
     "data": {
      "text/plain": [
       "(65L, 5L)"
      ]
     },
     "execution_count": 46,
     "metadata": {},
     "output_type": "execute_result"
    }
   ],
   "source": [
    "W_matrix.shape"
   ]
  },
  {
   "cell_type": "code",
   "execution_count": 47,
   "metadata": {},
   "outputs": [
    {
     "data": {
      "text/plain": [
       "(5L, 587L)"
      ]
     },
     "execution_count": 47,
     "metadata": {},
     "output_type": "execute_result"
    }
   ],
   "source": [
    "H_matrix.shape"
   ]
  },
  {
   "cell_type": "code",
   "execution_count": null,
   "metadata": {
    "collapsed": true
   },
   "outputs": [],
   "source": []
  },
  {
   "cell_type": "code",
   "execution_count": 49,
   "metadata": {},
   "outputs": [
    {
     "name": "stdout",
     "output_type": "stream",
     "text": [
      "Topic 0: dat, analys, diff, perform, inform, us, tim, distribut, sum, count\n",
      "Topic 1: forecast, met, cov, preprocess, cost, choos, hardw, fash, context, runtim\n",
      "Topic 2: model, wil, us, learn, python, ar, thi, build, hav, network\n",
      "Topic 3: system, learn, novel, play, interact, design, machin, tool, comput, vis\n",
      "Topic 4: headband, us, cheap, feedback, eeg, everyday, realtim, dev, mus, wav\n"
     ]
    }
   ],
   "source": [
    "# Print topics and keywords\n",
    "tfidf_feature_names = tfidf_vectorizer.get_feature_names()\n",
    "for topic_index in range( H_matrix.shape[0] ):\n",
    "    top_indices = np.argsort( H_matrix[topic_index,:] )[::-1][0:10]  ##show top 10 words associated with each topic\n",
    "    term_ranking = [tfidf_feature_names[i] for i in top_indices]\n",
    "    print (\"Topic %d: %s\" % ( topic_index, \", \".join( term_ranking ) ))"
   ]
  },
  {
   "cell_type": "markdown",
   "metadata": {},
   "source": [
    "How can we improve the topics?\n",
    "* short documents -> small word overlap -> use synonyms"
   ]
  },
  {
   "cell_type": "markdown",
   "metadata": {},
   "source": [
    "#### Tips for Large Datasets\n",
    "* the preprocessing and word counting can be performed in parallel on each document\n",
    "* use `dask.bag` package to parallelize it without loading all documents at the same time ([example](http://dask.pydata.org/en/latest/examples/bag-word-count-hdfs.html#local-computation))\n",
    "* [MLib](https://spark.apache.org/docs/1.1.0/mllib-feature-extraction.html) library has NLP functionality\n",
    "* store tf-idf matrix as sparse"
   ]
  },
  {
   "cell_type": "code",
   "execution_count": null,
   "metadata": {
    "collapsed": true
   },
   "outputs": [],
   "source": []
  },
  {
   "cell_type": "code",
   "execution_count": null,
   "metadata": {
    "collapsed": true
   },
   "outputs": [],
   "source": []
  }
 ],
 "metadata": {
  "kernelspec": {
   "display_name": "Python 2",
   "language": "python",
   "name": "python2"
  },
  "language_info": {
   "codemirror_mode": {
    "name": "ipython",
    "version": 2
   },
   "file_extension": ".py",
   "mimetype": "text/x-python",
   "name": "python",
   "nbconvert_exporter": "python",
   "pygments_lexer": "ipython2",
   "version": "2.7.13"
  }
 },
 "nbformat": 4,
 "nbformat_minor": 2
}
