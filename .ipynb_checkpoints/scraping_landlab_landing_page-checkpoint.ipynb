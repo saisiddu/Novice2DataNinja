{
 "cells": [
  {
   "cell_type": "markdown",
   "metadata": {},
   "source": [
    "# Jai Sri Sainath!\n",
    "Scraping landlab.github.io"
   ]
  },
  {
   "cell_type": "code",
   "execution_count": 1,
   "metadata": {
    "collapsed": true
   },
   "outputs": [],
   "source": [
    "import numpy as np"
   ]
  },
  {
   "cell_type": "code",
   "execution_count": 2,
   "metadata": {
    "collapsed": true
   },
   "outputs": [],
   "source": [
    "import urllib3\n",
    "from bs4 import BeautifulSoup"
   ]
  },
  {
   "cell_type": "code",
   "execution_count": 4,
   "metadata": {
    "collapsed": true
   },
   "outputs": [],
   "source": [
    "import nltk"
   ]
  },
  {
   "cell_type": "code",
   "execution_count": 8,
   "metadata": {
    "collapsed": true
   },
   "outputs": [],
   "source": [
    "http = urllib3.PoolManager()\n",
    "base_url = \"http://landlab.github.io/#/\"\n",
    "webpage = http.request('GET', url)\n",
    "\n",
    "other_links = BeautifulSoup(webpage.data,'html.parser')"
   ]
  },
  {
   "cell_type": "code",
   "execution_count": 9,
   "metadata": {},
   "outputs": [
    {
     "data": {
      "text/plain": [
       "[<a href=\"https://landlab.github.io/#/#install\">Install</a>,\n",
       " <a href=\"https://github.com/landlab/landlab/wiki/User-Guide\">User Guide</a>,\n",
       " <a href=\"https://github.com/landlab/landlab/wiki/Tutorials\">Tutorials</a>,\n",
       " <a href=\"http://landlab.readthedocs.org/en/latest/#developer-documentation\">Reference Manual</a>,\n",
       " <a href=\"https://github.com/landlab/landlab/wiki/FAQs\">FAQs</a>,\n",
       " <a href=\"https://github.com/landlab/landlab/wiki/About\">More</a>]"
      ]
     },
     "execution_count": 9,
     "metadata": {},
     "output_type": "execute_result"
    }
   ],
   "source": [
    "other_links.find_all('a', href=True)"
   ]
  },
  {
   "cell_type": "markdown",
   "metadata": {},
   "source": [
    "urls = [base_url+a['href'] for a in other_links.find_all('a', href=True)]"
   ]
  },
  {
   "cell_type": "markdown",
   "metadata": {},
   "source": [
    "urls"
   ]
  },
  {
   "cell_type": "markdown",
   "metadata": {},
   "source": [
    "print(other_links.prettify())"
   ]
  },
  {
   "cell_type": "code",
   "execution_count": 29,
   "metadata": {},
   "outputs": [
    {
     "data": {
      "text/plain": [
       "[<meta charset=\"unicode-escape\"/>,\n",
       " <title>Landlab | a python toolkit for modeling earth surface processes </title>,\n",
       " <meta content=\"http://landlab.github.io\" property=\"og:url\">\\n<meta content=\"Landlab | a python toolkit for modeling earth surface processes\" property=\"og:title\"/>\\n<meta content=\"http://landlab.github.io/assets/Landlab-logo.png\" property=\"og:image\"/>\\n<meta content=\"A Python-based modeling environment that allows scientists and\\n    students to build numerical landscape models. Designed for disciplines that\\n    quantify earth surface dynamics such as geomorphology, hydrology, glaciology,\\n    and stratigraphy, it can also be used in related fields. Landlab provides\\n    components to compute flows (such as water, sediment, glacial ice, volcanic\\n    material, or landslide debris) across a gridded terrain.\" name=\"description\"/>\\n<meta content=\"A Python-based modeling environment that allows scientists and\\n            students to build numerical landscape models.\" property=\"og:description\">\\n<meta content=\"width=device-width\" name=\"viewport\"/>\\n<link href=\"stylesheets/style.css\" rel=\"stylesheet\"/>\\n<link href=\"/favicon.ico?\" rel=\"shortcut icon\" type=\"image/x-icon\"/>\\n<script src=\"scripts/angular/angular.js\"></script>\\n<script src=\"scripts/angular/angular-route.js\"></script>\\n</meta></meta>,\n",
       " <meta content=\"Landlab | a python toolkit for modeling earth surface processes\" property=\"og:title\"/>,\n",
       " <meta content=\"http://landlab.github.io/assets/Landlab-logo.png\" property=\"og:image\"/>,\n",
       " <meta content=\"A Python-based modeling environment that allows scientists and\\n    students to build numerical landscape models. Designed for disciplines that\\n    quantify earth surface dynamics such as geomorphology, hydrology, glaciology,\\n    and stratigraphy, it can also be used in related fields. Landlab provides\\n    components to compute flows (such as water, sediment, glacial ice, volcanic\\n    material, or landslide debris) across a gridded terrain.\" name=\"description\"/>,\n",
       " <meta content=\"A Python-based modeling environment that allows scientists and\\n            students to build numerical landscape models.\" property=\"og:description\">\\n<meta content=\"width=device-width\" name=\"viewport\"/>\\n<link href=\"stylesheets/style.css\" rel=\"stylesheet\"/>\\n<link href=\"/favicon.ico?\" rel=\"shortcut icon\" type=\"image/x-icon\"/>\\n<script src=\"scripts/angular/angular.js\"></script>\\n<script src=\"scripts/angular/angular-route.js\"></script>\\n</meta>,\n",
       " <meta content=\"width=device-width\" name=\"viewport\"/>,\n",
       " <link href=\"stylesheets/style.css\" rel=\"stylesheet\"/>,\n",
       " <link href=\"/favicon.ico?\" rel=\"shortcut icon\" type=\"image/x-icon\"/>,\n",
       " <script src=\"scripts/angular/angular.js\"></script>,\n",
       " <script src=\"scripts/angular/angular-route.js\"></script>]"
      ]
     },
     "execution_count": 29,
     "metadata": {},
     "output_type": "execute_result"
    }
   ],
   "source": [
    "other_links.head()"
   ]
  },
  {
   "cell_type": "code",
   "execution_count": 32,
   "metadata": {},
   "outputs": [
    {
     "data": {
      "text/plain": [
       "[<a href=\"https://landlab.github.io/#/#install\">Install</a>,\n",
       " <a href=\"https://github.com/landlab/landlab/wiki/User-Guide\">User Guide</a>,\n",
       " <a href=\"https://github.com/landlab/landlab/wiki/Tutorials\">Tutorials</a>,\n",
       " <a href=\"http://landlab.readthedocs.org/en/latest/#developer-documentation\">Reference Manual</a>,\n",
       " <a href=\"https://github.com/landlab/landlab/wiki/FAQs\">FAQs</a>,\n",
       " <a href=\"https://github.com/landlab/landlab/wiki/About\">More</a>]"
      ]
     },
     "execution_count": 32,
     "metadata": {},
     "output_type": "execute_result"
    }
   ],
   "source": [
    "other_links.find_all('a')"
   ]
  },
  {
   "cell_type": "code",
   "execution_count": 43,
   "metadata": {},
   "outputs": [
    {
     "name": "stdout",
     "output_type": "stream",
     "text": [
      "   \n",
      "Landlab | a python toolkit for modeling earth surface processes \n",
      "\n",
      "\n",
      "\n",
      "\n",
      "\n",
      "\n",
      "\n",
      "\n",
      "\n",
      "\n",
      "\n",
      "\n",
      "\n",
      "\n",
      "\n",
      "\n",
      "a python toolkit for modeling earth surface processes\n",
      "\n",
      "\n",
      "Install\n",
      "User Guide\n",
      "Tutorials\n",
      "Reference Manual\n",
      "FAQs\n",
      "More\n",
      "\n",
      "\n",
      "\n",
      "\n",
      "\n",
      "\n",
      "\n",
      "\n",
      "\n",
      "\n",
      "\n",
      "\n",
      "\n",
      "\n",
      "\n",
      "   \n",
      "Landlab | a python toolkit for modeling earth surface processes \n",
      "\n",
      "\n",
      "\n",
      "\n",
      "\n",
      "\n",
      "\n",
      "\n",
      "\n",
      "\n",
      "\n",
      "\n",
      "\n",
      "\n",
      "\n",
      "\n",
      "a python toolkit for modeling earth surface processes\n",
      "\n",
      "\n",
      "Install\n",
      "User Guide\n",
      "Tutorials\n",
      "Reference Manual\n",
      "FAQs\n",
      "More\n",
      "\n",
      "\n",
      "\n",
      "\n",
      "\n",
      "\n",
      "\n",
      "\n",
      "\n",
      "\n",
      "\n",
      "\n",
      "\n",
      "\n",
      "\n",
      "   \n",
      "Landlab | a python toolkit for modeling earth surface processes \n",
      "\n",
      "\n",
      "\n",
      "\n",
      "\n",
      "\n",
      "\n",
      "\n",
      "\n",
      "\n",
      "\n",
      "\n",
      "\n",
      "\n",
      "\n",
      "\n",
      "a python toolkit for modeling earth surface processes\n",
      "\n",
      "\n",
      "Install\n",
      "User Guide\n",
      "Tutorials\n",
      "Reference Manual\n",
      "FAQs\n",
      "More\n",
      "\n",
      "\n",
      "\n",
      "\n",
      "\n",
      "\n",
      "\n",
      "\n",
      "\n",
      "\n",
      "\n",
      "\n",
      "\n",
      "\n",
      "\n",
      "   \n",
      "Landlab | a python toolkit for modeling earth surface processes \n",
      "\n",
      "\n",
      "\n",
      "\n",
      "\n",
      "\n",
      "\n",
      "\n",
      "\n",
      "\n",
      "\n",
      "\n",
      "\n",
      "\n",
      "\n",
      "\n",
      "a python toolkit for modeling earth surface processes\n",
      "\n",
      "\n",
      "Install\n",
      "User Guide\n",
      "Tutorials\n",
      "Reference Manual\n",
      "FAQs\n",
      "More\n",
      "\n",
      "\n",
      "\n",
      "\n",
      "\n",
      "\n",
      "\n",
      "\n",
      "\n",
      "\n",
      "\n",
      "\n",
      "\n",
      "\n",
      "\n",
      "   \n",
      "Landlab | a python toolkit for modeling earth surface processes \n",
      "\n",
      "\n",
      "\n",
      "\n",
      "\n",
      "\n",
      "\n",
      "\n",
      "\n",
      "\n",
      "\n",
      "\n",
      "\n",
      "\n",
      "\n",
      "\n",
      "a python toolkit for modeling earth surface processes\n",
      "\n",
      "\n",
      "Install\n",
      "User Guide\n",
      "Tutorials\n",
      "Reference Manual\n",
      "FAQs\n",
      "More\n",
      "\n",
      "\n",
      "\n",
      "\n",
      "\n",
      "\n",
      "\n",
      "\n",
      "\n",
      "\n",
      "\n",
      "\n",
      "\n",
      "\n",
      "\n",
      "   \n",
      "Landlab | a python toolkit for modeling earth surface processes \n",
      "\n",
      "\n",
      "\n",
      "\n",
      "\n",
      "\n",
      "\n",
      "\n",
      "\n",
      "\n",
      "\n",
      "\n",
      "\n",
      "\n",
      "\n",
      "\n",
      "a python toolkit for modeling earth surface processes\n",
      "\n",
      "\n",
      "Install\n",
      "User Guide\n",
      "Tutorials\n",
      "Reference Manual\n",
      "FAQs\n",
      "More\n",
      "\n",
      "\n",
      "\n",
      "\n",
      "\n",
      "\n",
      "\n",
      "\n",
      "\n",
      "\n",
      "\n",
      "\n",
      "\n",
      "\n",
      "\n"
     ]
    }
   ],
   "source": [
    "urls = [base_url+a['href'] for a in other_links.find_all('a', href=True)]\n",
    "for url in urls:\n",
    "    webpage = http.request('GET', url)\n",
    "    soup = BeautifulSoup(webpage.data, 'html.parser')\n",
    "    print(soup.get_text())"
   ]
  },
  {
   "cell_type": "code",
   "execution_count": null,
   "metadata": {
    "collapsed": true
   },
   "outputs": [],
   "source": []
  }
 ],
 "metadata": {
  "kernelspec": {
   "display_name": "Python 2",
   "language": "python",
   "name": "python2"
  },
  "language_info": {
   "codemirror_mode": {
    "name": "ipython",
    "version": 2
   },
   "file_extension": ".py",
   "mimetype": "text/x-python",
   "name": "python",
   "nbconvert_exporter": "python",
   "pygments_lexer": "ipython2",
   "version": "2.7.13"
  }
 },
 "nbformat": 4,
 "nbformat_minor": 2
}
