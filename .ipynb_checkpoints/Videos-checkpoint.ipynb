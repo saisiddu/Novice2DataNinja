{
 "cells": [
  {
   "cell_type": "markdown",
   "metadata": {},
   "source": [
    "#### Lesson Objective:\n",
    "* learn how to read a video in Python\n",
    "* learn how to separate background from moving objects using Non-negative Matrix Factorization"
   ]
  },
  {
   "cell_type": "code",
   "execution_count": null,
   "metadata": {
    "collapsed": true
   },
   "outputs": [],
   "source": [
    "# import common modules\n",
    "import matplotlib.pyplot as plt\n",
    "%matplotlib inline\n",
    "import numpy as np\n",
    "import os"
   ]
  },
  {
   "cell_type": "markdown",
   "metadata": {},
   "source": [
    "#### Reading Video"
   ]
  },
  {
   "cell_type": "code",
   "execution_count": null,
   "metadata": {},
   "outputs": [],
   "source": [
    "# set the path\n",
    "video_path = os.path.join('data','MAH08632.MP4')"
   ]
  },
  {
   "cell_type": "markdown",
   "metadata": {},
   "source": [
    "Unfortunately, Anaconda installation does not provide a package which reads `.mp4` directly. (`scikit-image` can read `.tiff` sequences). A useful package to do that is `imageio` which can be installed separately:\n",
    "    \n",
    "```\n",
    "conda install -c menpo imageio=1.5.0\n",
    "```"
   ]
  },
  {
   "cell_type": "code",
   "execution_count": null,
   "metadata": {
    "collapsed": true
   },
   "outputs": [],
   "source": [
    "# import and test the presence of 'ffmpeg'\n",
    "import imageio\n",
    "imageio.plugins.ffmpeg.download()"
   ]
  },
  {
   "cell_type": "code",
   "execution_count": null,
   "metadata": {},
   "outputs": [],
   "source": [
    "# get a pointer to the video\n",
    "vid = imageio.get_reader(video_path,'ffmpeg')"
   ]
  },
  {
   "cell_type": "code",
   "execution_count": null,
   "metadata": {},
   "outputs": [],
   "source": [
    "# extract and display the first frame\n",
    "image = vid.get_data(0)\n",
    "plt.imshow(image)\n",
    "m = image.shape[0]\n",
    "n = image.shape[1]\n",
    "nofFrames = len(vid)"
   ]
  },
  {
   "cell_type": "markdown",
   "metadata": {},
   "source": [
    "We will not read the whole video as it will overfill the RAM. We will subsample by 50. We will also read just the first channel, and stack all the pixels in an vector."
   ]
  },
  {
   "cell_type": "code",
   "execution_count": null,
   "metadata": {},
   "outputs": [],
   "source": [
    "# sequence of frames to read\n",
    "nums = np.linspace(0,nofFrames-1,50)\n",
    "\n",
    "# read the video frameas and store in a list\n",
    "video = []\n",
    "for num in nums:\n",
    "    video.append(vid.get_data(num)[:,:,0].ravel())"
   ]
  },
  {
   "cell_type": "code",
   "execution_count": null,
   "metadata": {},
   "outputs": [],
   "source": [
    "# convert the list to array\n",
    "data = np.array(video)"
   ]
  },
  {
   "cell_type": "code",
   "execution_count": null,
   "metadata": {},
   "outputs": [],
   "source": [
    "data.shape"
   ]
  },
  {
   "cell_type": "markdown",
   "metadata": {},
   "source": [
    "#### Background Separation via NMF"
   ]
  },
  {
   "cell_type": "code",
   "execution_count": null,
   "metadata": {},
   "outputs": [],
   "source": [
    "# we hope that the background will correspond to the first component\n",
    "n_components = 1\n",
    "\n",
    "\n",
    "# perform NMF\n",
    "from sklearn.decomposition import NMF\n",
    "model = NMF(init=\"nndsvd\", n_components=n_components, random_state=1)\n",
    "W_matrix = model.fit_transform(data)\n",
    "H_matrix = model.components_"
   ]
  },
  {
   "cell_type": "code",
   "execution_count": null,
   "metadata": {},
   "outputs": [],
   "source": [
    "plt.figure(figsize = (7,7))\n",
    "plt.imshow(H_matrix.reshape(m,n,n_components)[:,:,0],cmap = 'gray')\n",
    "plt.axis('off')"
   ]
  },
  {
   "cell_type": "markdown",
   "metadata": {},
   "source": [
    "#### Tips for working with large videos:\n",
    "* consider memory mapping the video to a file on disk when the video cannot fit in RAM \n",
    "* store them as `.hdf5` to allow quick individual access to frames\n",
    "* use out-of-core libraries such as `dask.array` to do operations on individual chunks and combine the results"
   ]
  },
  {
   "cell_type": "code",
   "execution_count": null,
   "metadata": {
    "collapsed": true
   },
   "outputs": [],
   "source": []
  },
  {
   "cell_type": "code",
   "execution_count": null,
   "metadata": {
    "collapsed": true
   },
   "outputs": [],
   "source": []
  }
 ],
 "metadata": {
  "kernelspec": {
   "display_name": "Python 2",
   "language": "python",
   "name": "python2"
  },
  "language_info": {
   "codemirror_mode": {
    "name": "ipython",
    "version": 2
   },
   "file_extension": ".py",
   "mimetype": "text/x-python",
   "name": "python",
   "nbconvert_exporter": "python",
   "pygments_lexer": "ipython2",
   "version": "2.7.13"
  }
 },
 "nbformat": 4,
 "nbformat_minor": 2
}
