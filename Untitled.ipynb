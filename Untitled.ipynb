{
 "cells": [
  {
   "cell_type": "markdown",
   "metadata": {},
   "source": [
    "# Jai Sri Sainath!\n",
    "Scraping yahoo finance page"
   ]
  },
  {
   "cell_type": "code",
   "execution_count": 1,
   "metadata": {
    "collapsed": true
   },
   "outputs": [],
   "source": [
    "import numpy as np\n",
    "import urllib3\n",
    "from bs4 import BeautifulSoup\n",
    "import nltk"
   ]
  },
  {
   "cell_type": "code",
   "execution_count": 3,
   "metadata": {},
   "outputs": [
    {
     "name": "stderr",
     "output_type": "stream",
     "text": [
      "C:\\Users\\saisi\\Anaconda2\\lib\\site-packages\\urllib3\\connectionpool.py:852: InsecureRequestWarning: Unverified HTTPS request is being made. Adding certificate verification is strongly advised. See: https://urllib3.readthedocs.io/en/latest/advanced-usage.html#ssl-warnings\n",
      "  InsecureRequestWarning)\n"
     ]
    }
   ],
   "source": [
    "http = urllib3.PoolManager()\n",
    "base_url = \"https://finance.yahoo.com/\"\n",
    "webpage = http.request('GET', base_url)\n",
    "\n",
    "other_links = BeautifulSoup(webpage.data,'html.parser')"
   ]
  },
  {
   "cell_type": "code",
   "execution_count": 5,
   "metadata": {},
   "outputs": [
    {
     "data": {
      "text/plain": [
       "[<script>window.performance && window.performance.mark && window.performance.mark('PageStart');</script>,\n",
       " <meta charset=\"unicode-escape\"/>,\n",
       " <title>Yahoo Finance - Business Finance, Stock Market, Quotes, News</title>,\n",
       " <meta content=\"401k, Business, Financial Information, Investing, Investor, Market News, Stock Research, Stock Valuation, business news, economy, finance, investment tools, mortgage, mutual funds, personal finance, quote, real estate, retirement, stock, stocks, Suze Orman, tax, track portfolio\" name=\"keywords\"/>,\n",
       " <meta content=\"on\" http-equiv=\"x-dns-prefetch-control\"/>,\n",
       " <meta content=\"on\" property=\"twitter:dnt\"/>,\n",
       " <meta content=\"@YahooFinance\" property=\"twitter:site\"/>,\n",
       " <meta content=\"90376669494\" property=\"fb:app_id\"/>,\n",
       " <meta content=\"#400090\" name=\"theme-color\"/>,\n",
       " <meta content=\"width=device-width, initial-scale=1\" name=\"viewport\"/>,\n",
       " <meta content=\"At Yahoo Finance, you get free stock quotes, up-to-date news, portfolio management resources, international market data, social interaction and mortgage rates that help you manage your financial life.\" lang=\"en-US\" name=\"description\"/>,\n",
       " <link href=\"//l.yimg.com\" rel=\"dns-prefetch\"/>,\n",
       " <link href=\"//s.yimg.com\" rel=\"dns-prefetch\"/>,\n",
       " <link href=\"//csc.beap.bc.yahoo.com\" rel=\"dns-prefetch\"/>,\n",
       " <link href=\"//geo.query.yahoo.com\" rel=\"dns-prefetch\"/>,\n",
       " <link href=\"//y.analytics.yahoo.com\" rel=\"dns-prefetch\"/>,\n",
       " <link href=\"//b.scorecardresearch.com\" rel=\"dns-prefetch\"/>,\n",
       " <link href=\"//iquery.finance.yahoo.com\" rel=\"dns-prefetch\"/>,\n",
       " <link href=\"//fc.yahoo.com\" rel=\"dns-prefetch\"/>,\n",
       " <link href=\"//video-api.yql.yahoo.com\" rel=\"dns-prefetch\"/>,\n",
       " <link href=\"//yrtas.btrll.com\" rel=\"dns-prefetch\"/>,\n",
       " <link href=\"//shim.btrll.com\" rel=\"dns-prefetch\"/>,\n",
       " <link href=\"//l.yimg.com\" rel=\"preconnect\"/>,\n",
       " <link href=\"//s.yimg.com\" rel=\"preconnect\"/>,\n",
       " <link href=\"//csc.beap.bc.yahoo.com\" rel=\"preconnect\"/>,\n",
       " <link href=\"//geo.query.yahoo.com\" rel=\"preconnect\"/>,\n",
       " <link href=\"//y.analytics.yahoo.com\" rel=\"preconnect\"/>,\n",
       " <link href=\"//b.scorecardresearch.com\" rel=\"preconnect\"/>,\n",
       " <link href=\"//iquery.finance.yahoo.com\" rel=\"preconnect\"/>,\n",
       " <link href=\"//fc.yahoo.com\" rel=\"preconnect\"/>,\n",
       " <link href=\"//video-api.yql.yahoo.com\" rel=\"preconnect\"/>,\n",
       " <link href=\"//yrtas.btrll.com\" rel=\"preconnect\"/>,\n",
       " <link href=\"//shim.btrll.com\" rel=\"preconnect\"/>,\n",
       " <link href=\"https://s.yimg.com/os/mit/media/p/common/images/favicon_new-7483e38.svg\" rel=\"icon\" sizes=\"any\"/>,\n",
       " <link href=\"https://finance.yahoo.com/favicon.ico?bypass=true\" rel=\"alternate icon\" type=\"image/x-icon\"/>,\n",
       " <link href=\"https://finance.yahoo.com/\" rel=\"canonical\"/>,\n",
       " <meta content=\"@YahooFinance\" property=\"twitter:site\"/>,\n",
       " <meta content=\"At Yahoo Finance, you get free stock quotes, up-to-date news, portfolio management resources, international market data, social interaction and mortgage rates that help you manage your financial life.\" property=\"og:description\"/>,\n",
       " <meta content=\"Yahoo Finance - Business Finance, Stock Market, Quotes, News\" property=\"og:title\"/>,\n",
       " <meta content=\"At Yahoo Finance, you get free stock quotes, up-to-date news, portfolio management resources, international market data, social interaction and mortgage rates that help you manage your financial life.\" property=\"twitter:description\"/>,\n",
       " <meta content=\"Yahoo Finance - Business Finance, Stock Market, Quotes, News\" property=\"twitter:title\"/>,\n",
       " <link href=\"https://s.yimg.com/zz/combo?os/yc/css/bundle.ce149847.css&amp;os/yc/css/patch.cd698090.css&amp;os/finance/dd-icon/1.0.30/yahoo-finance-icons.css&amp;os/finance/dd-site/css/atomic.7b4570fc.css&amp;os/finance/dd-site/css/app.9def9951.css\" rel=\"stylesheet\"/>,\n",
       " <script defer=\"\" src=\"https://www.yahoo.com/polyfill.min.js?features=locale-data-en-us%2Cpromise%2Carray.isarray%2Carray.prototype.every%2Carray.prototype.foreach%2Carray.prototype.indexof%2Carray.prototype.map%2Cdate.now%2Cfunction.prototype.bind%2Cobject.keys%2Cstring.prototype.trim%2Cobject.defineproperty%2Cobject.defineproperties%2Cobject.create%2Cobject.freeze%2Carray.prototype.filter%2Carray.prototype.reduce%2Cobject.assign%2Crequestanimationframe%2Cintl&amp;version=2.1.23\"></script>,\n",
       " <script src=\"https://s.yimg.com/os/ri/2.3.0/en.js\"></script>,\n",
       " <script src=\"https://s.yimg.com/zz/combo?ss/rapid-3.42.2.js\"></script>,\n",
       " <script defer=\"\" src=\"https://s.yimg.com/os/finance/dd-site/js/vendor.822d429463aff278f82d.js\"></script>,\n",
       " <script defer=\"\" src=\"https://s.yimg.com/os/finance/dd-site/js/common.d49a7b691fe4a9a50759.js\"></script>,\n",
       " <script src=\"https://yep.video.yahoo.com/js/3/videoplayer-min.js?r=nextgen-desktop&amp;lang=en-US&amp;ypv=prod\"></script>,\n",
       " <script src=\"https://s.yimg.com/rq/darla/3-0-2/js/g-r-min.js\"></script>,\n",
       " <script>(function(html){var c = html.className;c += \" JsEnabled\";c = c.replace(\"NoJs\",\"\");html.className = c;})(document.documentElement);</script>,\n",
       " <script>window.Modernizr=function(a,b,c){function d(a){r.cssText=a}function e(a,b){return typeof a===b}function f(a,b){return!!~(\"\"+a).indexOf(b)}function g(a,b){for(var d in a){var e=a[d];if(!f(e,\"-\")&&r[e]!==c)return\"pfx\"==b?e:!0}return!1}function h(a,b,d){for(var f in a){var g=b[a[f]];if(g!==c)return d===!1?a[f]:e(g,\"function\")?g.bind(d||b):g}return!1}function i(a,b,c){var d=a.charAt(0).toUpperCase()+a.slice(1),f=(a+\" \"+u.join(d+\" \")+d).split(\" \");return e(b,\"string\")||e(b,\"undefined\")?g(f,b):(f=(a+\" \"+v.join(d+\" \")+d).split(\" \"),h(f,b,c))}var j,k,l,m=\"2.8.3\",n={},o=b.documentElement,p=\"modernizr\",q=b.createElement(p),r=q.style,s=({}.toString,\" -webkit- -moz- -o- -ms- \".split(\" \")),t=\"Webkit Moz O ms\",u=t.split(\" \"),v=t.toLowerCase().split(\" \"),w={svg:\"http://www.w3.org/2000/svg\"},x={},y=[],z=y.slice,A=function(a,c,d,e){var f,g,h,i,j=b.createElement(\"div\"),k=b.body,l=k||b.createElement(\"body\");if(parseInt(d,10))for(;d--;)h=b.createElement(\"div\"),h.id=e?e[d]:p+(d+1),j.appendChild(h);return f=[\"&#173;\",'<style id=\"s',p,'\">',a,\"</style>\"].join(\"\"),j.id=p,(k?j:l).innerHTML+=f,l.appendChild(j),k||(l.style.background=\"\",l.style.overflow=\"hidden\",i=o.style.overflow,o.style.overflow=\"hidden\",o.appendChild(l)),g=c(j,a),k?j.parentNode.removeChild(j):(l.parentNode.removeChild(l),o.style.overflow=i),!!g},B={}.hasOwnProperty;l=e(B,\"undefined\")||e(B.call,\"undefined\")?function(a,b){return b in a&&e(a.constructor.prototype[b],\"undefined\")}:function(a,b){return B.call(a,b)},Function.prototype.bind||(Function.prototype.bind=function(a){var b=this;if(\"function\"!=typeof b)throw new TypeError;var c=z.call(arguments,1),d=function(){if(this instanceof d){var e=function(){};e.prototype=b.prototype;var f=new e,g=b.apply(f,c.concat(z.call(arguments)));return Object(g)===g?g:f}return b.apply(a,c.concat(z.call(arguments)))};return d}),x.canvas=function(){var a=b.createElement(\"canvas\");return!(!a.getContext||!a.getContext(\"2d\"))},x.history=function(){return!(!a.history||!history.pushState)},x.csstransforms3d=function(){var a=!!i(\"perspective\");return a&&\"webkitPerspective\"in o.style&&A(\"@media (transform-3d),(-webkit-transform-3d){#modernizr{left:9px;position:absolute;height:3px;}}\",function(b,c){a=9===b.offsetLeft&&3===b.offsetHeight}),a},x.csstransitions=function(){return i(\"transition\")},x.video=function(){var a=b.createElement(\"video\"),c=!1;try{(c=!!a.canPlayType)&&(c=new Boolean(c),c.ogg=a.canPlayType('video/ogg; codecs=\"theora\"').replace(/^no$/,\"\"),c.h264=a.canPlayType('video/mp4; codecs=\"avc1.42E01E\"').replace(/^no$/,\"\"),c.webm=a.canPlayType('video/webm; codecs=\"vp8, vorbis\"').replace(/^no$/,\"\"))}catch(d){}return c},x.localstorage=function(){try{return localStorage.setItem(p,p),localStorage.removeItem(p),!0}catch(a){return!1}},x.sessionstorage=function(){try{return sessionStorage.setItem(p,p),sessionStorage.removeItem(p),!0}catch(a){return!1}},x.svg=function(){return!!b.createElementNS&&!!b.createElementNS(w.svg,\"svg\").createSVGRect},x.inlinesvg=function(){var a=b.createElement(\"div\");return a.innerHTML=\"<svg/>\",(a.firstChild&&a.firstChild.namespaceURI)==w.svg};for(var C in x)l(x,C)&&(k=C.toLowerCase(),n[k]=x[C](),y.push((n[k]?\"\":\"no-\")+k));return n.addTest=function(a,b){if(\"object\"==typeof a)for(var d in a)l(a,d)&&n.addTest(d,a[d]);else{if(a=a.toLowerCase(),n[a]!==c)return n;b=\"function\"==typeof b?b():b,\"undefined\"!=typeof enableClasses&&enableClasses&&(o.className+=\" \"+(b?\"\":\"no-\")+a),n[a]=b}return n},d(\"\"),q=j=null,n._version=m,n._prefixes=s,n._domPrefixes=v,n._cssomPrefixes=u,n.testProp=function(a){return g([a])},n.testAllProps=i,n.testStyles=A,n.prefixed=function(a,b,c){return b?i(a,b,c):i(a,\"pfx\")},n}(this,this.document);</script>,\n",
       " <style>#atomic .render-target-modal #YDC-UH{display:none}#atomic #render-target-modal,#atomic #render-target-viewer{opacity:0}#atomic.modal-postopen #render-target-modal,#atomic.viewer-postopen #render-target-viewer{opacity:1}#atomic.modal-postopen #render-target-mrt,#atomic.modal-postopen .render-target-default,#atomic.viewer-postopen #render-target-mrt,#atomic.viewer-postopen .render-target-default{max-height:100%;overflow:hidden}#render-target-mrt{position:absolute;width:100%}#atomic.default-to-modal-fade .render-target-default,#atomic.default-to-viewer-fade .render-target-default,#atomic.modal-to-default-fade .render-target-modal,#atomic.mrt-to-modal-fade #render-target-mrt,#atomic.mrt-to-viewer-fade #render-target-mrt,#atomic.viewer-to-default-fade .render-target-viewer{position:absolute}#atomic.default-to-modal-fade .render-target-modal{-webkit-animation:fadein .15s ease-out forwards;animation:fadein .15s ease-out forwards}#atomic.modal-to-default-fade .render-target-modal{-webkit-animation:fadeout .15s ease-in forwards;animation:fadeout .15s ease-in forwards}#atomic.default-to-viewer-fade .render-target-viewer,#atomic.modal-to-viewer-fade .render-target-viewer{-webkit-animation:fadein .25s ease-out forwards;animation:fadein .25s ease-out forwards}#atomic.viewer-to-default-fade .render-target-viewer,#atomic.viewer-to-modal-fade .render-target-viewer{-webkit-animation:fadeout .25s ease-in forwards;animation:fadeout .25s ease-in forwards}@-webkit-keyframes fadein{0%{opacity:0}100%{opacity:1}}@-webkit-keyframes fadeout{0%{opacity:1}100%{opacity:0}}@keyframes fadein{0%{opacity:0}100%{opacity:1}}@keyframes fadeout{0%{opacity:1}100%{opacity:0}}</style>,\n",
       " <style>#atomic .video-lightbox .video-container .yvp-content.yvp-browser-desktop.yvp-state-video.yvp-hide-controls .yvp-html5-video,#atomic .video-lightbox .video-container.playlist-dimmed .yvp-playlist-container{cursor:none}#atomic .video-lightbox .tdv2-applet-canvass .comment-icon,#atomic .video-lightbox .tdv2-applet-canvass .sort-filter-button>svg{fill:#fff!important;stroke:#fff!important}#atomic .video-lightbox .tdv2-applet-canvass .comments-title,#atomic .video-lightbox .tdv2-applet-canvass .message-content>div,#atomic .video-lightbox .tdv2-applet-canvass .see-more-wrapper>div,#atomic .video-lightbox .tdv2-applet-canvass .sort-filter-button>span,#atomic .video-lightbox .tdv2-applet-canvass .username{color:#fff!important}#atomic .video-lightbox .tdv2-applet-canvass a.comment-form{border:none!important}#atomic .video-lightbox .tdv2-applet-canvass .more-button>span{color:#787d82!important}#atomic .video-lightbox .tdv2-applet-canvass .canvass-tumblr-stickers input{width:135px!important}#atomic .video-lightbox .yvp-playlist-container.yvp-playlist-mode-right.yvp-playlist-theme-dark{background:#0c0c0c}#atomic .video-lightbox .video-container .yvp-content{background:0 0}#atomic .video-lightbox .video-container.playlist-dimmed .yvp-playlist-container .yvp-playlist-item{cursor:none;opacity:.2;transition:all .4s ease-in-out;transition-delay:.2s}#atomic .video-lightbox .video-container.playlist-undimmed .yvp-playlist-container .yvp-playlist-item{opacity:1;transition:all .4s ease-in-out;transition-delay:.2s}#atomic .video-lightbox .video-container.playlist-hidden .yvp-playlist-container{opacity:0;transition:all .4s ease-in-out}</style>,\n",
       " <script>(function () {\\nif (!window.YAHOO || !window.YAHOO.i13n || !window.YAHOO.i13n.Rapid) { return; }\\nvar rapidConfig = {\"async_all_clicks\":true,\"click_timeout\":300,\"client_only\":1,\"compr_type\":\"deflate\",\"keys\":{\"ver\":\"ydotcom\",\"navtype\":\"server\",\"pt\":\"home\",\"mrkt\":\"us\",\"site\":\"finance\",\"lang\":\"en-US\",\"colo\":\"gq1\",\"_yrid\":\"394ubvdclrklm\",\"_rid\":\"394ubvdclrklm\"},\"pageview_on_init\":true,\"test_id\":\"finance-US-en-US-def\",\"tracked_mods_viewability\":[],\"track_right_click\":false,\"viewability\":true,\"perf_navigationtime\":2,\"perf_resourcetime\":1,\"webworker_file\":\"/__rapidworker-1.2.js\",\"spaceid\":\"1183300002\"};\\nwindow.rapidInstance = new window.YAHOO.i13n.Rapid(rapidConfig);\\n})();</script>]"
      ]
     },
     "execution_count": 5,
     "metadata": {},
     "output_type": "execute_result"
    }
   ],
   "source": [
    "other_links.head()"
   ]
  },
  {
   "cell_type": "code",
   "execution_count": null,
   "metadata": {
    "collapsed": true
   },
   "outputs": [],
   "source": []
  }
 ],
 "metadata": {
  "kernelspec": {
   "display_name": "Python 2",
   "language": "python",
   "name": "python2"
  },
  "language_info": {
   "codemirror_mode": {
    "name": "ipython",
    "version": 2
   },
   "file_extension": ".py",
   "mimetype": "text/x-python",
   "name": "python",
   "nbconvert_exporter": "python",
   "pygments_lexer": "ipython2",
   "version": "2.7.13"
  }
 },
 "nbformat": 4,
 "nbformat_minor": 2
}
